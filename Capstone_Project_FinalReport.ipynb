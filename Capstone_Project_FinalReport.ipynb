{
 "cells": [
  {
   "cell_type": "markdown",
   "metadata": {},
   "source": [
    "# Accident Severity Prediction to reduce Road Traffic Accidents in Seattle, WA - IBM Capstone Project"
   ]
  },
  {
   "cell_type": "markdown",
   "metadata": {},
   "source": [
    "<br>\n",
    "<br>\n",
    "<div><img src=\"https://www.bekinsmovingandstorage.com/wp-content/uploads/2016/03/SeattleCity2-1024x682.jpg\"\n",
    "     alt=\"Seattle\", title=\"Seattle\",align = \"center\",\n",
    "     style=\"float: left; margin-right: 20px;\" />\n",
    "</div>\n",
    "\n",
    "<br clear=\"all\" />\n",
    "<br>"
   ]
  },
  {
   "cell_type": "markdown",
   "metadata": {},
   "source": [
    "## Table Of Contents:\n",
    "\n",
    "* [Introduction](#Introduction)\n",
    "* [Data](#Data)\n",
    "* [Methodology](#Methodology)\n",
    "* [Results](#Results)\n",
    "* [Discussion](#Discussion)\n",
    "* [Conclusion](#Conclusion)"
   ]
  },
  {
   "cell_type": "markdown",
   "metadata": {},
   "source": [
    "# Introduction"
   ]
  },
  {
   "cell_type": "markdown",
   "metadata": {},
   "source": [
    "Every year the lives of approximately 1.35 million people are cut short as a result of a road traffic crash. Between 20 and 50 million more people suffer non-fatal injuries, with many incurring a disability as a result of their injury.Road traffic injuries cause considerable economic losses to individuals, their families, and to nations as a whole. These losses arise from the cost of treatment as well as lost productivity for those killed or disabled by their injuries, and for family members who need to take time off work or school to care for the injured. Road traffic crashes cost most countries 3% of their gross domestic product.The study of influencing factors of traffic accidents is an important research direction in the field of traffic safety. The increasing number of crashes is a major public safety concern with various related costs. "
   ]
  },
  {
   "cell_type": "markdown",
   "metadata": {},
   "source": [
    "### Business Problem"
   ]
  },
  {
   "cell_type": "markdown",
   "metadata": {},
   "source": [
    "\n",
    "\n",
    "In an effort to reduce the frequency of such collisions in the community, a model must be developed to predict the severity of an accident given the current weather, the road and visibility conditions. With our application, the user will be alerted to be more careful if the conditions are bad.\n",
    "\n",
    "Our main objective in this project is to make a supervised prediction model that predicts the severity of an accident given certain circumstances (the current weather, road and visibility conditions) and alert the end user appropriately.<br>\n",
    "<br>"
   ]
  },
  {
   "cell_type": "markdown",
   "metadata": {},
   "source": [
    "# Data"
   ]
  },
  {
   "cell_type": "markdown",
   "metadata": {},
   "source": [
    "This project will utilize Jupyter Notebooks to analyze a metadata set containing a rating of accident severity, street location, collision address type, weather condition, road condition, vehicle count, injuries, fatalities, and whether the driver at fault was under the influence. The dataset we will use in this project is the shared data originally provided by Seattle Department of Transportation(SDOT) Traffic Management Division, Traffic Records Group, and modified to particularly meet the project criteria.The dataset that we will be using is a .csv file named, 'Data-Collisions'. Our target variable will be 'SEVERITYCODE' because it is used to measure the severity of an accident from 0 to 3 (including a \"2b\", as per the metadata) within the dataset. Attributes that are used here to weigh the severity of an accident are 'WEATHER', 'ROADCOND' and 'LIGHTCOND'. The entire dataset originally had 194,673 rows (Instances) and 38 columns (Features). The metadata of the dataset can be found <a href=\"https://s3.us.cloud-object-storage.appdomain.cloud/cf-courses-data/CognitiveClass/DP0701EN/version-2/Metadata.pdf\">here</a>. <br><br>In it's original form, this data is not fit for analysis. There are many columns that we will not use for this model. So, the data is to be cleaned, preprocessed and well prepared for analysis, and then to be fed to the Machine Learning Algorithms to finalize our model.\n",
    "\n",
    "<br>"
   ]
  },
  {
   "cell_type": "markdown",
   "metadata": {},
   "source": [
    "# Methodology"
   ]
  },
  {
   "cell_type": "markdown",
   "metadata": {},
   "source": [
    "In this project, our main aim is to explore the relation between the road, light and weather conditions with respect to the accident severity in Seattle, WA. For this, the pre-processed data will be analyzed using Exploratory Data Analysis and Inferential Statistical Analysis. Based on the inference, we shall proceed with the selection of Machine Learning Algorithm for our model.  "
   ]
  },
  {
   "cell_type": "markdown",
   "metadata": {},
   "source": [
    "### Exploratory Data Analysis <br>"
   ]
  },
  {
   "cell_type": "markdown",
   "metadata": {
    "collapsed": true
   },
   "source": [
    "The correlation Heat-Map of the dataset was explored. However, it did not provide much of an insight to the problem as our independent variables were shown to be Negatively correlated with the dependent variable. After that, the Pearson Coefficient and p-value were explored, which showed that the Road Condition and Light Condition had a strong relation with the Collision Severity. The initial decision of including the Weather Condition along with the Road and Light Condition was not changed.\n",
    "\n",
    "\n",
    "<br>\n"
   ]
  },
  {
   "cell_type": "markdown",
   "metadata": {},
   "source": [
    "### Machine Learning Algorithms & Evaluation <br>"
   ]
  },
  {
   "cell_type": "markdown",
   "metadata": {},
   "source": [
    "**1. K-Nearest Neighbor (KNN)** <br>"
   ]
  },
  {
   "cell_type": "markdown",
   "metadata": {},
   "source": [
    "The k-nearest neighbors (KNN) algorithm is a simple, supervised machine learning algorithm that can be used to solve both classification and regression problems. It's easy to implement and understand, but has a major drawback of becoming significantly slows as the size of that data in use grows. Here we will be trying different values for k and get the result of the besk k-value which will be used to predict the output,i.e., KNN will help us predict the severity code of an outcome by finding the most similar data-point within k distance.<br>\n",
    "\n",
    "![KNN Algorithm](https://github.com/AmalGKrishnan/Coursera_Capstone/blob/master/img/00.PNG \"KNN Algorithm\")\n",
    "![KNN Algorithm](https://github.com/AmalGKrishnan/Coursera_Capstone/blob/master/img/01.PNG \"KNN Algorithm Evaluation\")\n",
    "<br><br>"
   ]
  },
  {
   "cell_type": "markdown",
   "metadata": {},
   "source": [
    "**2. Decision Tree** <br>"
   ]
  },
  {
   "cell_type": "markdown",
   "metadata": {},
   "source": [
    "Decision Trees (DTs) are a non-parametric supervised learning method used for classification and regression. The goal is to create a model that predicts the value of a target variable by learning simple decision rules inferred from the data features. <br>\n",
    "A decision tree model gives us a layout of all possible outcomes so we can fully analyze the concequences of a decision. In this context, the decision tree observes all possible outcomes of different weather conditions.<br>\n",
    "\n",
    "![DT Algorithm](https://github.com/AmalGKrishnan/Coursera_Capstone/blob/master/img/02.PNG \"Decision Tree Algorithm\")\n",
    "\n",
    "<br><br>"
   ]
  },
  {
   "cell_type": "markdown",
   "metadata": {},
   "source": [
    "**3. Logistic Regression** <br>"
   ]
  },
  {
   "cell_type": "markdown",
   "metadata": {},
   "source": [
    "Logistic regression is a classification algorithm used to assign observations to a discrete set of classes. Unlike linear regression which outputs continuous number values, logistic regression transforms its output using the logistic sigmoid function to return a probability value which can then be mapped to two or more discrete classes. <br>\n",
    "Because our current dataset (in this case) only provides us with two severity code outcomes, our model will only predict one of those two classes. This makes our classification binary, and logistic regression is a go-to method for binary classification problems, which makes it perfect for us.<br>\n",
    "\n",
    "![LR Algorithm](https://github.com/AmalGKrishnan/Coursera_Capstone/blob/master/img/03.PNG \"Logistic Regression Algorithm\")\n",
    "\n",
    "<br>\n",
    "<br>"
   ]
  },
  {
   "cell_type": "markdown",
   "metadata": {},
   "source": [
    "## Results"
   ]
  },
  {
   "cell_type": "markdown",
   "metadata": {},
   "source": [
    "The dataset was fed to the Machine Learning Algorithms as mentioned in the Methodology Section. The accuracy of the 3 models are as shown below :<br>\n",
    "\n",
    "![Results](https://github.com/AmalGKrishnan/Coursera_Capstone/blob/master/img/04.PNG \"Results\")\n",
    "\n",
    "<br>\n",
    "The above table shows that the Decision Tree Algorithm gives the highest accuracy of 56% (which 2% higher than Logistic Regression). "
   ]
  },
  {
   "cell_type": "markdown",
   "metadata": {},
   "source": [
    "# Discussion"
   ]
  },
  {
   "cell_type": "markdown",
   "metadata": {},
   "source": [
    "In the beginning of this notebook, we had categorical data that was of type 'object'. This is not a data-type that we could have fed through an algoritim, so label encoding was used to created new classes that were of the type int (numerical data type).\n",
    "\n",
    "After solving that issue we were presented with another - imbalanced data. As mentioned earlier, class 1 was nearly three times larger than class 2. The solution to this was downsampling the majority class. We downsampled to match the minority class exactly with 57052 values each.\n",
    "\n",
    "Once we analyzed and cleaned the data, it was then fed through three ML models: K-Nearest Neighbor, Decision Tree and Logistic Regression. Although the first two are ideal for this project, logistic regression made most sense because of its binary nature.\n",
    "\n",
    "Evaluation metrics used to test the accuracy of our models were Jaccard index, f-1 score and log_loss for logistic regression. Choosing different k, max depth and hyparameter C values helped to improve our accuracy to be the best possible."
   ]
  },
  {
   "cell_type": "markdown",
   "metadata": {},
   "source": [
    "**Future Scope**"
   ]
  },
  {
   "cell_type": "markdown",
   "metadata": {},
   "source": [
    "We have just scratched the surface of this dataset with our use case. There is scope for a vast variety of analytics and modeling that can be done with this dataset for various other use cases (for example, finding out the relation between various alleys/intersections with collision severity in order to improve the infrastructure). \n",
    "<br>\n",
    "By optimizing the dataset (multi-class outcomes instead of binary as in this case) and trying other algorithms, there is high scope for improvement of our model in the future."
   ]
  },
  {
   "cell_type": "markdown",
   "metadata": {},
   "source": [
    "# Conclusion"
   ]
  },
  {
   "cell_type": "markdown",
   "metadata": {},
   "source": [
    "Based on the dataset featuring the weather, the road and lighting conditions, our model could predict the accident severity with an accuracy of 54%. We conclude that these accidents can be avoided if the end user is provided with real-time information on the road and lighting conditions and also regular updates on the weather using our application."
   ]
  }
 ],
 "metadata": {
  "kernelspec": {
   "display_name": "Python 3",
   "language": "python",
   "name": "python3"
  },
  "language_info": {
   "codemirror_mode": {
    "name": "ipython",
    "version": 3
   },
   "file_extension": ".py",
   "mimetype": "text/x-python",
   "name": "python",
   "nbconvert_exporter": "python",
   "pygments_lexer": "ipython3",
   "version": "3.7.6"
  }
 },
 "nbformat": 4,
 "nbformat_minor": 1
}
