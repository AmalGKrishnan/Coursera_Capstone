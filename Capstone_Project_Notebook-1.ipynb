{
    "cells": [
        {
            "cell_type": "markdown",
            "metadata": {
                "collapsed": true
            },
            "source": "<h1 align=\"center\"><font size=\"5\">Capstone Project Notebook</font></h1>\n<br>\n<br>\n\n\n**Hi there**. This notebook will mainly be used for the Capstone Project. We have been practicing on pre-built notebooks up until now, just to learn how things work in general. Now, we have the opportunity to create our own project from scratch. I am glad I did this course from IBM in Coursera. \n\nThis is my first ever Data Science Project. I am sure that there will be many shortcomings and mistakes. If you notice any areas where I can improve, please do not hesitate to leave me a comment so that I can improve upon and grow.\n\nThank you.\n\n\n### Let us begin!!!!!"
        },
        {
            "cell_type": "code",
            "execution_count": 1,
            "metadata": {},
            "outputs": [],
            "source": "import pandas as pd\nimport numpy as np"
        },
        {
            "cell_type": "code",
            "execution_count": 2,
            "metadata": {},
            "outputs": [
                {
                    "name": "stdout",
                    "output_type": "stream",
                    "text": "Hello Capstone Project Course!\n"
                }
            ],
            "source": "print('Hello Capstone Project Course!')"
        },
        {
            "cell_type": "code",
            "execution_count": null,
            "metadata": {},
            "outputs": [],
            "source": ""
        }
    ],
    "metadata": {
        "kernelspec": {
            "display_name": "Python 3.6",
            "language": "python",
            "name": "python3"
        },
        "language_info": {
            "codemirror_mode": {
                "name": "ipython",
                "version": 3
            },
            "file_extension": ".py",
            "mimetype": "text/x-python",
            "name": "python",
            "nbconvert_exporter": "python",
            "pygments_lexer": "ipython3",
            "version": "3.6.9"
        }
    },
    "nbformat": 4,
    "nbformat_minor": 1
}