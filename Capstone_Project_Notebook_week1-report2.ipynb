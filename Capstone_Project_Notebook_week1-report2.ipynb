{
    "cells": [
        {
            "cell_type": "markdown",
            "metadata": {
                "collapsed": true
            },
            "source": "# Accident Severity Prediction to reduce Road Traffic Accidents in Seattle, WA - IBM Capstone Project\n<br>\n<br>\n<div><img src=\"https://www.bekinsmovingandstorage.com/wp-content/uploads/2016/03/SeattleCity2-1024x682.jpg\"\n     alt=\"Seattle\", align = \"center\",\n     style=\"float: left; margin-right: 10px;\" />\n</div>\n\n<br clear=\"all\" />\n<br>\n\n## Introduction / Business Problem\n<br>\n<br>\nThe study of influencing factors of traffic accidents is an important research direction in the field of traffic safety. The increasing number of crashes is a major public safety concern with various related costs. In an effort to reduce the frequency of such collisions in the community, a model must be developed to predict the severity of an accident given the current weather, road and visibility conditions. With our application, the user will be alerted to be more careful if the conditions are bad. \n\nOur main objective in this project is to make a supervised prediction model that predicts the severity of an accident given certain circumstances (the current weather, road and visibility conditions).\n<br>\n<br>\n## Data\n<br>\n<br>\nThe dataset that we will be using is a .csv file named, 'Data-Collisions'. Our target variable will be 'SEVERITYCODE' because it is used to measure the severity of an accident from 0 to 3 (including a \"2b\", as per the metadata) within the dataset. Attributes that are used here to weigh the severity of an accident are 'WEATHER', 'ROADCOND' and 'LIGHTCOND'. In it's original form, this data is not fit for analysis. There are many columns that we will not use for this model. So, the data is to be cleaned and preprocessed and well prepared for analysis, and then to be fed to the Machine Learning Algorithms to finalize our model.\n    \n\n<br>\n<br>\n\n"
        },
        {
            "cell_type": "code",
            "execution_count": null,
            "metadata": {},
            "outputs": [],
            "source": ""
        }
    ],
    "metadata": {
        "kernelspec": {
            "display_name": "Python 3.6",
            "language": "python",
            "name": "python3"
        },
        "language_info": {
            "codemirror_mode": {
                "name": "ipython",
                "version": 3
            },
            "file_extension": ".py",
            "mimetype": "text/x-python",
            "name": "python",
            "nbconvert_exporter": "python",
            "pygments_lexer": "ipython3",
            "version": "3.6.9"
        }
    },
    "nbformat": 4,
    "nbformat_minor": 1
}