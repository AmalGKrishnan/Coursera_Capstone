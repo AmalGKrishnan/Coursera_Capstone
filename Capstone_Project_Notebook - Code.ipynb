{
    "cells": [
        {
            "cell_type": "code",
            "execution_count": 96,
            "metadata": {},
            "outputs": [],
            "source": "# The code was removed by Watson Studio for sharing."
        },
        {
            "cell_type": "code",
            "execution_count": 197,
            "metadata": {},
            "outputs": [
                {
                    "name": "stdout",
                    "output_type": "stream",
                    "text": "Solving environment: done\n\n## Package Plan ##\n\n  environment location: /opt/conda/envs/Python36\n\n  added / updated specs: \n    - pydotplus\n\n\nThe following packages will be downloaded:\n\n    package                    |            build\n    ---------------------------|-----------------\n    pydotplus-2.0.2            |     pyhd1c1de3_3          23 KB  conda-forge\n    ca-certificates-2020.6.20  |       hecda079_0         145 KB  conda-forge\n    python_abi-3.6             |          1_cp36m           4 KB  conda-forge\n    certifi-2020.6.20          |   py36h9f0ad1d_0         151 KB  conda-forge\n    openssl-1.1.1g             |       h516909a_1         2.1 MB  conda-forge\n    ------------------------------------------------------------\n                                           Total:         2.4 MB\n\nThe following NEW packages will be INSTALLED:\n\n    pydotplus:       2.0.2-pyhd1c1de3_3 conda-forge\n    python_abi:      3.6-1_cp36m        conda-forge\n\nThe following packages will be UPDATED:\n\n    certifi:         2020.6.20-py36_0               --> 2020.6.20-py36h9f0ad1d_0 conda-forge\n    openssl:         1.1.1g-h7b6447c_0              --> 1.1.1g-h516909a_1        conda-forge\n\nThe following packages will be DOWNGRADED:\n\n    ca-certificates: 2020.6.24-0                    --> 2020.6.20-hecda079_0     conda-forge\n\n\nDownloading and Extracting Packages\npydotplus-2.0.2      | 23 KB     | ##################################### | 100% \nca-certificates-2020 | 145 KB    | ##################################### | 100% \npython_abi-3.6       | 4 KB      | ##################################### | 100% \ncertifi-2020.6.20    | 151 KB    | ##################################### | 100% \nopenssl-1.1.1g       | 2.1 MB    | ##################################### | 100% \nPreparing transaction: done\nVerifying transaction: done\nExecuting transaction: done\n"
                }
            ],
            "source": "# !conda install -c conda-forge pydotplus -y"
        },
        {
            "cell_type": "markdown",
            "metadata": {},
            "source": "### Import the required libraries"
        },
        {
            "cell_type": "code",
            "execution_count": 252,
            "metadata": {},
            "outputs": [],
            "source": "import pandas as pd\nimport numpy as np\n\n\nfrom sklearn.utils import resample                                 # For downscaling\n\n\n \nfrom sklearn.preprocessing import LabelEncoder                     # For encoding the categorical variable in the dataset\n\n\nimport seaborn as sns                                              # for analyzing our dataset\nimport matplotlib.pyplot as plt\n%matplotlib inline\nfrom scipy.stats import pearsonr\n\nfrom sklearn.preprocessing import StandardScaler as SS             # for Normalization of data\n\nfrom sklearn.model_selection import train_test_split as tts        # for splitting our dataset\n\nfrom sklearn.neighbors import KNeighborsClassifier as KNN          # for K Nearest Neighbor \n\nfrom sklearn.tree import DecisionTreeClassifier as DTC             # for Decision Tree and also plotting the tree\nfrom sklearn.externals.six import StringIO\nimport pydotplus\nimport matplotlib.image as mpimg\nfrom sklearn import tree \n\n\nfrom sklearn.linear_model import LogisticRegression as LR          # for Logistic Regression\n\n\nfrom sklearn.metrics import jaccard_similarity_score               # for Evaluation of our models\nfrom sklearn.metrics import f1_score\nfrom sklearn.metrics import log_loss"
        },
        {
            "cell_type": "markdown",
            "metadata": {},
            "source": "#### Downloading the .csv file"
        },
        {
            "cell_type": "code",
            "execution_count": 220,
            "metadata": {},
            "outputs": [
                {
                    "name": "stdout",
                    "output_type": "stream",
                    "text": "--2020-08-29 22:14:44--  https://s3.us.cloud-object-storage.appdomain.cloud/cf-courses-data/CognitiveClass/DP0701EN/version-2/Data-Collisions.csv\nResolving s3.us.cloud-object-storage.appdomain.cloud (s3.us.cloud-object-storage.appdomain.cloud)... 67.228.254.196\nConnecting to s3.us.cloud-object-storage.appdomain.cloud (s3.us.cloud-object-storage.appdomain.cloud)|67.228.254.196|:443... connected.\nHTTP request sent, awaiting response... 200 OK\nLength: 73917638 (70M) [text/csv]\nSaving to: \u2018Data-Collisions.csv\u2019\n\n100%[======================================>] 73,917,638  2.88MB/s   in 19s    \n\n2020-08-29 22:15:04 (3.63 MB/s) - \u2018Data-Collisions.csv\u2019 saved [73917638/73917638]\n\n"
                }
            ],
            "source": "!wget -O  \"Data-Collisions.csv\" https://s3.us.cloud-object-storage.appdomain.cloud/cf-courses-data/CognitiveClass/DP0701EN/version-2/Data-Collisions.csv"
        },
        {
            "cell_type": "markdown",
            "metadata": {},
            "source": "<br>\n\n**Now that we have downloaded the csv file, let us create our dataframe using pandas read_csv() function.**"
        },
        {
            "cell_type": "code",
            "execution_count": 234,
            "metadata": {},
            "outputs": [],
            "source": "df = pd.read_csv('Data-Collisions.csv')"
        },
        {
            "cell_type": "code",
            "execution_count": 222,
            "metadata": {},
            "outputs": [],
            "source": "# The code was removed by Watson Studio for sharing."
        },
        {
            "cell_type": "code",
            "execution_count": 236,
            "metadata": {
                "scrolled": true
            },
            "outputs": [
                {
                    "name": "stdout",
                    "output_type": "stream",
                    "text": "<class 'pandas.core.frame.DataFrame'>\nRangeIndex: 194673 entries, 0 to 194672\nData columns (total 38 columns):\nSEVERITYCODE      194673 non-null int64\nX                 189339 non-null float64\nY                 189339 non-null float64\nOBJECTID          194673 non-null int64\nINCKEY            194673 non-null int64\nCOLDETKEY         194673 non-null int64\nREPORTNO          194673 non-null object\nSTATUS            194673 non-null object\nADDRTYPE          192747 non-null object\nINTKEY            65070 non-null float64\nLOCATION          191996 non-null object\nEXCEPTRSNCODE     84811 non-null object\nEXCEPTRSNDESC     5638 non-null object\nSEVERITYCODE.1    194673 non-null int64\nSEVERITYDESC      194673 non-null object\nCOLLISIONTYPE     189769 non-null object\nPERSONCOUNT       194673 non-null int64\nPEDCOUNT          194673 non-null int64\nPEDCYLCOUNT       194673 non-null int64\nVEHCOUNT          194673 non-null int64\nINCDATE           194673 non-null object\nINCDTTM           194673 non-null object\nJUNCTIONTYPE      188344 non-null object\nSDOT_COLCODE      194673 non-null int64\nSDOT_COLDESC      194673 non-null object\nINATTENTIONIND    29805 non-null object\nUNDERINFL         189789 non-null object\nWEATHER           189592 non-null object\nROADCOND          189661 non-null object\nLIGHTCOND         189503 non-null object\nPEDROWNOTGRNT     4667 non-null object\nSDOTCOLNUM        114936 non-null float64\nSPEEDING          9333 non-null object\nST_COLCODE        194655 non-null object\nST_COLDESC        189769 non-null object\nSEGLANEKEY        194673 non-null int64\nCROSSWALKKEY      194673 non-null int64\nHITPARKEDCAR      194673 non-null object\ndtypes: float64(4), int64(12), object(22)\nmemory usage: 56.4+ MB\nNone\n"
                }
            ],
            "source": "# We shall check the summary of our dataset, so that we can get an idea as to what we are dealing with.\n\n# df.describe(include='all')\nprint(df.info())"
        },
        {
            "cell_type": "markdown",
            "metadata": {},
            "source": "**As we can see, there are a number of columns that we are not interested in right now. So, let us select the ones that seems suitable for our use case.**"
        },
        {
            "cell_type": "code",
            "execution_count": 237,
            "metadata": {},
            "outputs": [
                {
                    "name": "stdout",
                    "output_type": "stream",
                    "text": "<class 'pandas.core.frame.DataFrame'>\nRangeIndex: 194673 entries, 0 to 194672\nData columns (total 4 columns):\nSEVERITYCODE    194673 non-null int64\nWEATHER         189592 non-null object\nROADCOND        189661 non-null object\nLIGHTCOND       189503 non-null object\ndtypes: int64(1), object(3)\nmemory usage: 5.9+ MB\nNone\n"
                }
            ],
            "source": "df=df[['SEVERITYCODE', 'WEATHER', 'ROADCOND', 'LIGHTCOND']]\n\nprint(df.info())"
        },
        {
            "cell_type": "markdown",
            "metadata": {},
            "source": "**There are a number of null values (or blanks) in our dataset. We shall use the dropna function to search the required subset for null values are remove the entire rows.**"
        },
        {
            "cell_type": "code",
            "execution_count": 238,
            "metadata": {},
            "outputs": [
                {
                    "name": "stdout",
                    "output_type": "stream",
                    "text": "<class 'pandas.core.frame.DataFrame'>\nInt64Index: 189337 entries, 0 to 194672\nData columns (total 4 columns):\nSEVERITYCODE    189337 non-null int64\nWEATHER         189337 non-null object\nROADCOND        189337 non-null object\nLIGHTCOND       189337 non-null object\ndtypes: int64(1), object(3)\nmemory usage: 7.2+ MB\n"
                }
            ],
            "source": "df.dropna(subset=['WEATHER','ROADCOND','LIGHTCOND'],inplace=True)\ndf.info()"
        },
        {
            "cell_type": "markdown",
            "metadata": {},
            "source": "**Perfect!!!** <br>**But we are not done yet. Now we'll have to check the balance of the 'SEVERITYCODE', which is the dependent feature in our dataset. A perfectly balanced dataset with result in better performance while modeling. Otherwise, our model would be biased.**"
        },
        {
            "cell_type": "code",
            "execution_count": 239,
            "metadata": {},
            "outputs": [
                {
                    "data": {
                        "text/plain": "1    132285\n2     57052\nName: SEVERITYCODE, dtype: int64"
                    },
                    "execution_count": 239,
                    "metadata": {},
                    "output_type": "execute_result"
                }
            ],
            "source": "df['SEVERITYCODE'].value_counts()"
        },
        {
            "cell_type": "markdown",
            "metadata": {},
            "source": "**We can see that there are only two types of severity codes in our dataframe, 1 and 2, being property damage and mild injury respectively. However, the class 1 is more than twice of class 2. We can downsample class 1 to fix this issue.**"
        },
        {
            "cell_type": "code",
            "execution_count": 240,
            "metadata": {},
            "outputs": [
                {
                    "data": {
                        "text/plain": "2    57052\n1    57052\nName: SEVERITYCODE, dtype: int64"
                    },
                    "execution_count": 240,
                    "metadata": {},
                    "output_type": "execute_result"
                }
            ],
            "source": "# Separate majority and minority classes\ndf_majority = df[df.SEVERITYCODE==1]\ndf_minority = df[df.SEVERITYCODE==2]\n\nn=len(df_minority)\n\n# Downsample majority class\ndf_majority_downsampled = resample(df_majority, \n                                 replace=False,    # sample without replacement\n                                 n_samples=n,      # to match minority class\n                                 random_state=50)  # reproducible results\n \n# Combine minority class with downsampled majority class\ndf_downsampled = pd.concat([df_majority_downsampled, df_minority])\n \n# Display new class counts\ndf_downsampled.SEVERITYCODE.value_counts()"
        },
        {
            "cell_type": "markdown",
            "metadata": {},
            "source": "**We need to convert the categorical values in our dataset to numerical values for that they can be fed to our models later. For this we are using Label Encoder from sklearn.**"
        },
        {
            "cell_type": "code",
            "execution_count": 241,
            "metadata": {},
            "outputs": [
                {
                    "data": {
                        "text/plain": "Clear                       68159\nRaining                     20643\nOvercast                    16877\nUnknown                      7066\nSnowing                       475\nOther                         420\nFog/Smog/Smoke                351\nSleet/Hail/Freezing Rain       64\nBlowing Sand/Dirt              33\nSevere Crosswind               13\nPartly Cloudy                   3\nName: WEATHER, dtype: int64"
                    },
                    "execution_count": 241,
                    "metadata": {},
                    "output_type": "execute_result"
                }
            ],
            "source": "df_downsampled.WEATHER.value_counts()"
        },
        {
            "cell_type": "code",
            "execution_count": 242,
            "metadata": {},
            "outputs": [
                {
                    "data": {
                        "text/html": "<div>\n<style scoped>\n    .dataframe tbody tr th:only-of-type {\n        vertical-align: middle;\n    }\n\n    .dataframe tbody tr th {\n        vertical-align: top;\n    }\n\n    .dataframe thead th {\n        text-align: right;\n    }\n</style>\n<table border=\"1\" class=\"dataframe\">\n  <thead>\n    <tr style=\"text-align: right;\">\n      <th></th>\n      <th>SEVERITYCODE</th>\n      <th>WEATHER</th>\n      <th>ROADCOND</th>\n      <th>LIGHTCOND</th>\n      <th>WEATHER_CAT</th>\n      <th>ROAD_CAT</th>\n      <th>LIGHT_CAT</th>\n    </tr>\n  </thead>\n  <tbody>\n    <tr>\n      <th>71757</th>\n      <td>1</td>\n      <td>Overcast</td>\n      <td>Dry</td>\n      <td>Daylight</td>\n      <td>4</td>\n      <td>0</td>\n      <td>5</td>\n    </tr>\n    <tr>\n      <th>102817</th>\n      <td>1</td>\n      <td>Clear</td>\n      <td>Wet</td>\n      <td>Daylight</td>\n      <td>1</td>\n      <td>8</td>\n      <td>5</td>\n    </tr>\n    <tr>\n      <th>112456</th>\n      <td>1</td>\n      <td>Raining</td>\n      <td>Dry</td>\n      <td>Dark - Street Lights On</td>\n      <td>6</td>\n      <td>0</td>\n      <td>2</td>\n    </tr>\n    <tr>\n      <th>21794</th>\n      <td>1</td>\n      <td>Overcast</td>\n      <td>Dry</td>\n      <td>Dark - Street Lights On</td>\n      <td>4</td>\n      <td>0</td>\n      <td>2</td>\n    </tr>\n    <tr>\n      <th>189098</th>\n      <td>1</td>\n      <td>Overcast</td>\n      <td>Dry</td>\n      <td>Daylight</td>\n      <td>4</td>\n      <td>0</td>\n      <td>5</td>\n    </tr>\n  </tbody>\n</table>\n</div>",
                        "text/plain": "        SEVERITYCODE   WEATHER ROADCOND                LIGHTCOND  WEATHER_CAT  \\\n71757              1  Overcast      Dry                 Daylight            4   \n102817             1     Clear      Wet                 Daylight            1   \n112456             1   Raining      Dry  Dark - Street Lights On            6   \n21794              1  Overcast      Dry  Dark - Street Lights On            4   \n189098             1  Overcast      Dry                 Daylight            4   \n\n        ROAD_CAT  LIGHT_CAT  \n71757          0          5  \n102817         8          5  \n112456         0          2  \n21794          0          2  \n189098         0          5  "
                    },
                    "execution_count": 242,
                    "metadata": {},
                    "output_type": "execute_result"
                }
            ],
            "source": "lb = LabelEncoder()\n\ndf_downsampled['WEATHER_CAT'] = lb.fit_transform(df_downsampled['WEATHER'])\ndf_downsampled['ROAD_CAT'] = lb.fit_transform(df_downsampled['ROADCOND'])\ndf_downsampled['LIGHT_CAT'] = lb.fit_transform(df_downsampled['LIGHTCOND'])\n\ndf_downsampled.head()"
        },
        {
            "cell_type": "code",
            "execution_count": 243,
            "metadata": {},
            "outputs": [],
            "source": "df_new = df_downsampled[['SEVERITYCODE', 'WEATHER_CAT', 'ROAD_CAT', 'LIGHT_CAT']]"
        },
        {
            "cell_type": "markdown",
            "metadata": {},
            "source": "### Explporatory Data Analysis"
        },
        {
            "cell_type": "code",
            "execution_count": 256,
            "metadata": {
                "scrolled": true
            },
            "outputs": [
                {
                    "data": {
                        "text/plain": "<matplotlib.axes._subplots.AxesSubplot at 0x7f86c4d92e48>"
                    },
                    "execution_count": 256,
                    "metadata": {},
                    "output_type": "execute_result"
                },
                {
                    "data": {
                        "image/png": "[encoded data removed]",
                        "text/plain": "<Figure size 432x288 with 2 Axes>"
                    },
                    "metadata": {
                        "needs_background": "light"
                    },
                    "output_type": "display_data"
                }
            ],
            "source": "sns.heatmap(df_new.corr(), annot = True, vmin=-1, vmax=1, center= 0)"
        },
        {
            "cell_type": "code",
            "execution_count": 257,
            "metadata": {},
            "outputs": [],
            "source": "# The code was removed by Watson Studio for sharing."
        },
        {
            "cell_type": "code",
            "execution_count": 253,
            "metadata": {},
            "outputs": [
                {
                    "name": "stdout",
                    "output_type": "stream",
                    "text": "-0.1297625454272009 0.0\n"
                }
            ],
            "source": "pearson_coeff, p_value = pearsonr(df_new['WEATHER_CAT'],df_new['SEVERITYCODE'])\nprint(pearson_coeff, p_value)"
        },
        {
            "cell_type": "code",
            "execution_count": 254,
            "metadata": {},
            "outputs": [
                {
                    "name": "stdout",
                    "output_type": "stream",
                    "text": "-0.05600249799190999 6.228356863762197e-80\n"
                }
            ],
            "source": "pearson_coeff, p_value = pearsonr(df_new['ROAD_CAT'],df_new['SEVERITYCODE'])\nprint(pearson_coeff, p_value)"
        },
        {
            "cell_type": "code",
            "execution_count": 255,
            "metadata": {},
            "outputs": [
                {
                    "name": "stdout",
                    "output_type": "stream",
                    "text": "-0.0683583167728117 3.070475783449797e-118\n"
                }
            ],
            "source": "pearson_coeff, p_value = pearsonr(df_new['LIGHT_CAT'],df_new['SEVERITYCODE'])\nprint(pearson_coeff, p_value)"
        },
        {
            "cell_type": "markdown",
            "metadata": {},
            "source": "\n### Feature Selection"
        },
        {
            "cell_type": "markdown",
            "metadata": {},
            "source": "Now we shall feed our dataset to the Machine Learning Algorithms. We will be using 3 of them here, namely, KNN, Decision Tree and Logistic Regression."
        },
        {
            "cell_type": "code",
            "execution_count": 245,
            "metadata": {},
            "outputs": [
                {
                    "data": {
                        "text/plain": "array([1., 1., 1., 1., 1.])"
                    },
                    "execution_count": 245,
                    "metadata": {},
                    "output_type": "execute_result"
                }
            ],
            "source": "# Initialization\nX = np.asarray(df_new[['WEATHER_CAT', 'ROAD_CAT', 'LIGHT_CAT']]).astype(float)\ny = np.asarray(df_new['SEVERITYCODE']).astype(float)\ny[0:5]"
        },
        {
            "cell_type": "markdown",
            "metadata": {},
            "source": "### Normalize the dataset"
        },
        {
            "cell_type": "code",
            "execution_count": 246,
            "metadata": {},
            "outputs": [
                {
                    "data": {
                        "text/plain": "array([[ 0.38539418, -0.69458687,  0.39185293],\n       [-0.71972789,  1.50151555,  0.39185293],\n       [ 1.12214222, -0.69458687, -1.42886541],\n       [ 0.38539418, -0.69458687, -1.42886541],\n       [ 0.38539418, -0.69458687,  0.39185293]])"
                    },
                    "execution_count": 246,
                    "metadata": {},
                    "output_type": "execute_result"
                }
            ],
            "source": "X = SS().fit_transform(X)\nX[0:5]"
        },
        {
            "cell_type": "markdown",
            "metadata": {},
            "source": "### Splitting  the dataset"
        },
        {
            "cell_type": "code",
            "execution_count": 247,
            "metadata": {},
            "outputs": [
                {
                    "name": "stdout",
                    "output_type": "stream",
                    "text": "Train Set: (79872, 3) (79872,)\nTest Set: (34232, 3) (34232,)\n"
                }
            ],
            "source": "# Splitting the dataset into train and test set\nX_train,X_test,y_train,y_test = tts(X, y, test_size=0.3, random_state=45)\nprint(\"Train Set:\",X_train.shape,y_train.shape)\nprint(\"Test Set:\",X_test.shape,y_test.shape)"
        },
        {
            "cell_type": "markdown",
            "metadata": {},
            "source": "### K Nearest Neighbor (KNN)"
        },
        {
            "cell_type": "code",
            "execution_count": 248,
            "metadata": {},
            "outputs": [
                {
                    "data": {
                        "text/plain": "KNeighborsClassifier(algorithm='auto', leaf_size=30, metric='minkowski',\n           metric_params=None, n_jobs=None, n_neighbors=3, p=2,\n           weights='uniform')"
                    },
                    "execution_count": 248,
                    "metadata": {},
                    "output_type": "execute_result"
                }
            ],
            "source": "# First, we are going to use the K Nearest Neighbor (KNN) Algorithm.\n\n#Train Model and Predict\nk=3\nkNN_model = KNN(n_neighbors=k).fit(X_train,y_train)\nkNN_model"
        },
        {
            "cell_type": "code",
            "execution_count": 249,
            "metadata": {},
            "outputs": [
                {
                    "data": {
                        "text/plain": "array([2., 2., 2., 2., 2.])"
                    },
                    "execution_count": 249,
                    "metadata": {},
                    "output_type": "execute_result"
                }
            ],
            "source": "# just for sanity chaeck\nyhat = kNN_model.predict(X_test)\nyhat[0:5]"
        },
        {
            "cell_type": "code",
            "execution_count": 250,
            "metadata": {},
            "outputs": [
                {
                    "data": {
                        "text/plain": "array([0.55307899, 0.54262094, 0.55363403, 0.55302057, 0.5545104 ,\n       0.51589156, 0.55442276, 0.5474702 , 0.55564968, 0.55538677,\n       0.55430591, 0.55483174, 0.5545104 , 0.55494859])"
                    },
                    "execution_count": 250,
                    "metadata": {},
                    "output_type": "execute_result"
                }
            ],
            "source": "# Best k\nKs=15\nmean_acc=np.zeros((Ks-1))\nstd_acc=np.zeros((Ks-1))\nConfustionMx=[];\nfor n in range(1,Ks):\n    \n    #Train Model and Predict  \n    kNN_model = KNN(n_neighbors=n).fit(X_train,y_train)\n    yhat = kNN_model.predict(X_test)\n    \n    \n    mean_acc[n-1]=np.mean(yhat==y_test);\n    \n    std_acc[n-1]=np.std(yhat==y_test)/np.sqrt(yhat.shape[0])\nmean_acc"
        },
        {
            "cell_type": "code",
            "execution_count": 204,
            "metadata": {},
            "outputs": [
                {
                    "data": {
                        "text/plain": "KNeighborsClassifier(algorithm='auto', leaf_size=30, metric='minkowski',\n           metric_params=None, n_jobs=None, n_neighbors=5, p=2,\n           weights='uniform')"
                    },
                    "execution_count": 204,
                    "metadata": {},
                    "output_type": "execute_result"
                }
            ],
            "source": "# Building the model again, using k=5\nk = 5\n#Train Model and Predict  \nkNN_model = KNN(n_neighbors=k).fit(X_train,y_train)\nkNN_model"
        },
        {
            "cell_type": "markdown",
            "metadata": {},
            "source": "**KNN Model Evaluation**"
        },
        {
            "cell_type": "code",
            "execution_count": 205,
            "metadata": {},
            "outputs": [
                {
                    "name": "stdout",
                    "output_type": "stream",
                    "text": "KNN Jaccard index: 0.55\nKNN F1-score: 0.52\n"
                }
            ],
            "source": "print(\"KNN Jaccard index: %.2f\" % jaccard_similarity_score(y_test, yhat))\nprint(\"KNN F1-score: %.2f\" % f1_score(y_test, yhat, average='weighted') )"
        },
        {
            "cell_type": "markdown",
            "metadata": {},
            "source": "### Decision Tree"
        },
        {
            "cell_type": "code",
            "execution_count": 206,
            "metadata": {},
            "outputs": [
                {
                    "data": {
                        "text/plain": "DecisionTreeClassifier(class_weight=None, criterion='entropy', max_depth=4,\n            max_features=None, max_leaf_nodes=None,\n            min_impurity_decrease=0.0, min_impurity_split=None,\n            min_samples_leaf=1, min_samples_split=2,\n            min_weight_fraction_leaf=0.0, presort=False, random_state=None,\n            splitter='best')"
                    },
                    "execution_count": 206,
                    "metadata": {},
                    "output_type": "execute_result"
                }
            ],
            "source": "DT_model = DTC(criterion=\"entropy\", max_depth = 4)\nDT_model.fit(X_train,y_train)\nDT_model"
        },
        {
            "cell_type": "code",
            "execution_count": 207,
            "metadata": {},
            "outputs": [
                {
                    "data": {
                        "text/plain": "array([2., 2., 1., ..., 1., 1., 2.])"
                    },
                    "execution_count": 207,
                    "metadata": {},
                    "output_type": "execute_result"
                }
            ],
            "source": "yhat1 = DT_model.predict(X_test)\nyhat1"
        },
        {
            "cell_type": "markdown",
            "metadata": {},
            "source": "**Decision Tree Model Evaluation**"
        },
        {
            "cell_type": "code",
            "execution_count": 208,
            "metadata": {},
            "outputs": [
                {
                    "name": "stdout",
                    "output_type": "stream",
                    "text": "DT Jaccard index: 0.56\nDT F1-score: 0.53\n"
                }
            ],
            "source": "print(\"DT Jaccard index: %.2f\" % jaccard_similarity_score(y_test, yhat1))\nprint(\"DT F1-score: %.2f\" % f1_score(y_test, yhat1, average='weighted') )"
        },
        {
            "cell_type": "markdown",
            "metadata": {},
            "source": "### Logistic Regression"
        },
        {
            "cell_type": "code",
            "execution_count": 192,
            "metadata": {},
            "outputs": [
                {
                    "data": {
                        "text/plain": "LogisticRegression(C=0.01, class_weight=None, dual=False, fit_intercept=True,\n          intercept_scaling=1, max_iter=100, multi_class='warn',\n          n_jobs=None, penalty='l2', random_state=None, solver='liblinear',\n          tol=0.0001, verbose=0, warm_start=False)"
                    },
                    "execution_count": 192,
                    "metadata": {},
                    "output_type": "execute_result"
                }
            ],
            "source": "LR_model = LR(C=0.01,solver='liblinear').fit(X_train,y_train)\nLR_model"
        },
        {
            "cell_type": "code",
            "execution_count": 193,
            "metadata": {},
            "outputs": [
                {
                    "data": {
                        "text/plain": "array([2, 2, 2, ..., 2, 2, 2])"
                    },
                    "execution_count": 193,
                    "metadata": {},
                    "output_type": "execute_result"
                }
            ],
            "source": "yhat2 = LR_model.predict(X_test)\nyhat2"
        },
        {
            "cell_type": "markdown",
            "metadata": {},
            "source": "**Logistic Regression Model Evaluation**"
        },
        {
            "cell_type": "code",
            "execution_count": 194,
            "metadata": {},
            "outputs": [
                {
                    "name": "stdout",
                    "output_type": "stream",
                    "text": "LR Jaccard index: 0.54\nLR F1-score: 0.53\nLR LogLoss: 0.68\n"
                }
            ],
            "source": "yhat_prob = LR_model.predict_proba(X_test)\nprint(\"LR Jaccard index: %.2f\" % jaccard_similarity_score(y_test, yhat2))\nprint(\"LR F1-score: %.2f\" % f1_score(y_test, yhat2, average='weighted') )\nprint(\"LR LogLoss: %.2f\" % log_loss(y_test, yhat_prob))"
        },
        {
            "cell_type": "markdown",
            "metadata": {},
            "source": "# Report\n\n| Algorithm          | Jaccard | F1-score | LogLoss |\n|--------------------|---------|----------|---------|\n| KNN                | 0.55    | 0.52     | NA      |\n| Decision Tree      | 0.56    | 0.53     | NA      |\n| LogisticRegression | 0.54    | 0.53     | 0.68    |\n<br>\n\nEven though the first two algorithms look promising, it is Logistic Regression that makes sense because of its binary nature. So we will proceed with Logistic Regression algorithm as our model."
        },
        {
            "cell_type": "code",
            "execution_count": null,
            "metadata": {},
            "outputs": [],
            "source": ""
        }
    ],
    "metadata": {
        "kernelspec": {
            "display_name": "Python 3.6",
            "language": "python",
            "name": "python3"
        },
        "language_info": {
            "codemirror_mode": {
                "name": "ipython",
                "version": 3
            },
            "file_extension": ".py",
            "mimetype": "text/x-python",
            "name": "python",
            "nbconvert_exporter": "python",
            "pygments_lexer": "ipython3",
            "version": "3.6.9"
        }
    },
    "nbformat": 4,
    "nbformat_minor": 1
}