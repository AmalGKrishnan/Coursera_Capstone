{
    "cells": [
        {
            "cell_type": "markdown",
            "metadata": {
                "collapsed": true
            },
            "source": "# Accident Severity Prediction to reduce Road Traffic Accidents in Seattle, WA - IBM Capstone Project\n<br>\n<br>\n<div><img src=\"https://www.bekinsmovingandstorage.com/wp-content/uploads/2016/03/SeattleCity2-1024x682.jpg\"\n     alt=\"Seattle\", align = \"center\",\n     style=\"float: left; margin-right: 10px;\" />\n</div>\n\n<br clear=\"all\" />\n<br>\n\n## Introduction / Business Problem\n<br>\n<br>\nThe study of influencing factors of traffic accidents is an important research direction in the field of traffic safety. The increasing number of crashes is a major public safety concern with various related costs. In an effort to reduce the frequency of such collisions in the community, a model must be developed to predict the severity of an accident given the current weather, road and visibility conditions. With our application, the user will be alerted to be more careful if the conditions are bad. \n\nOur main objective in this project is to make a supervised prediction model that predicts the severity of an accident given certain circumstances (the current weather, road and visibility conditions).\n<br>\n<br>\n\n\n"
        },
        {
            "cell_type": "code",
            "execution_count": null,
            "metadata": {},
            "outputs": [],
            "source": ""
        }
    ],
    "metadata": {
        "kernelspec": {
            "display_name": "Python 3.6",
            "language": "python",
            "name": "python3"
        },
        "language_info": {
            "codemirror_mode": {
                "name": "ipython",
                "version": 3
            },
            "file_extension": ".py",
            "mimetype": "text/x-python",
            "name": "python",
            "nbconvert_exporter": "python",
            "pygments_lexer": "ipython3",
            "version": "3.6.9"
        }
    },
    "nbformat": 4,
    "nbformat_minor": 1
}